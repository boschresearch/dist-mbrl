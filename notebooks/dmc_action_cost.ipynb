{
 "cells": [
  {
   "cell_type": "markdown",
   "metadata": {},
   "source": [
    "### Read data from file"
   ]
  },
  {
   "cell_type": "code",
   "execution_count": null,
   "metadata": {},
   "outputs": [],
   "source": [
    "import pickle\n",
    "from pathlib import Path\n",
    "\n",
    "root_module = Path.cwd()\n",
    "ext = \".pkl\"\n",
    "file_name = \"dmc_action_cost\"\n",
    "load_dir = root_module.parent.joinpath(\"data/\")\n",
    "file_dir = load_dir.joinpath(file_name + ext)\n",
    "raw_data = pickle.load(open(file_dir, \"rb\"))"
   ]
  },
  {
   "cell_type": "markdown",
   "metadata": {},
   "source": [
    "### Get all the data we need from the metrics"
   ]
  },
  {
   "cell_type": "code",
   "execution_count": null,
   "metadata": {},
   "outputs": [],
   "source": [
    "from dist_mbrl.utils.process_results import process_raw_results\n",
    "\n",
    "# Post-process raw return data to get mean and standard error\n",
    "metric_data = process_raw_results(raw_data)\n",
    "\n",
    "# Retrieve relevant variables from data\n",
    "env_names = metric_data[\"env_names\"]\n",
    "steps = metric_data[\"steps\"]\n",
    "mean_returns = metric_data[\"mean_returns\"]\n",
    "ci_returns = metric_data[\"ci_returns\"]"
   ]
  },
  {
   "cell_type": "markdown",
   "metadata": {},
   "source": [
    "### Plotting"
   ]
  },
  {
   "cell_type": "code",
   "execution_count": null,
   "metadata": {},
   "outputs": [],
   "source": [
    "%matplotlib widget\n",
    "import matplotlib.pyplot as plt\n",
    "\n",
    "from dist_mbrl.utils.plot import JMLR_PARAMS, LIGHT_GREY\n",
    "\n",
    "plt.rcParams.update(JMLR_PARAMS)\n",
    "\n",
    "fig, axes = plt.subplots(\n",
    "    nrows=2, ncols=3, figsize=(6.0, 3.0), gridspec_kw={\"wspace\": 0.3, \"hspace\": 0.2}\n",
    ")\n",
    "\n",
    "ax_dict = {\n",
    "    (\"cartpole-swingup_sparse\", \"0.0\"): axes[0, 0],\n",
    "    (\"cartpole-swingup_sparse\", \"0.001\"): axes[0, 1],\n",
    "    (\"cartpole-swingup_sparse\", \"0.003\"): axes[0, 2],\n",
    "    (\"pendulum-swingup\", \"0.0\"): axes[1, 0],\n",
    "    (\"pendulum-swingup\", \"0.01\"): axes[1, 1],\n",
    "    (\"pendulum-swingup\", \"0.03\"): axes[1, 2],\n",
    "}\n",
    "\n",
    "colors = {}\n",
    "quantile_levels = [\"50\", \"70\", \"90\", \"nan\"]\n",
    "cmap = plt.get_cmap(\"tab10\")\n",
    "for i, type in enumerate(quantile_levels):\n",
    "    colors[type] = cmap(i)\n",
    "\n",
    "ep_length = 1000\n",
    "\n",
    "\n",
    "# Custom processing of labels\n",
    "def custom_process_label(params):\n",
    "    quantile = params[1]\n",
    "    agent_type = params[2]\n",
    "    if quantile == \"nan\":\n",
    "        return rf\"\\texttt{{{agent_type}}}\"\n",
    "    else:\n",
    "        quantile = int(quantile) / 100.0\n",
    "        return rf\"\\texttt{{{agent_type}-{quantile}}}\"\n",
    "\n",
    "\n",
    "for env_name in env_names:\n",
    "    for idx in mean_returns[env_name].keys():\n",
    "        color_id, cost = idx[1], idx[3]\n",
    "        label = custom_process_label(idx)\n",
    "        ax_dict[(env_name, cost)].plot(\n",
    "            steps[env_name][idx] // ep_length,\n",
    "            mean_returns[env_name][idx],\n",
    "            linestyle=\"-\",\n",
    "            linewidth=1.5,\n",
    "            label=label,\n",
    "            c=colors[color_id],\n",
    "        )\n",
    "        ax_dict[(env_name, cost)].fill_between(\n",
    "            steps[env_name][idx] // ep_length,\n",
    "            mean_returns[env_name][idx] - ci_returns[env_name][idx],\n",
    "            mean_returns[env_name][idx] + ci_returns[env_name][idx],\n",
    "            alpha=0.2,\n",
    "            color=colors[color_id],\n",
    "        )\n",
    "        ax_dict[(env_name, cost)].grid(color=LIGHT_GREY)\n",
    "\n",
    "axes[0, 0].set_ylabel(r\"\\textbf{{cartpole-swingup}}\" + \"\\n \\n Return\")\n",
    "axes[1, 0].set_ylabel(r\"\\textbf{{pendulum}}\" + \"\\n \\n Return\")\n",
    "\n",
    "axes[0, 0].set_title(r\"Action cost $0\\times$\")\n",
    "axes[0, 1].set_title(r\"Action cost $1\\times$\")\n",
    "axes[0, 2].set_title(r\"Action cost $3\\times$\")\n",
    "\n",
    "\n",
    "for ax in axes[0, :]:\n",
    "    ax.set_xticklabels([])\n",
    "\n",
    "for ax in axes[1, :]:\n",
    "    ax.set_xlabel(\"Episodes\")\n",
    "    ax.set_title(\"\")\n",
    "\n",
    "for ax in axes.flatten():\n",
    "    ax.set_ylim([-50, 900])\n",
    "\n",
    "axes[0, 0].legend(loc=\"lower center\", ncol=4, bbox_to_anchor=(1.5, -2.0), frameon=False)"
   ]
  },
  {
   "cell_type": "markdown",
   "metadata": {},
   "source": [
    "### Save figures"
   ]
  },
  {
   "cell_type": "code",
   "execution_count": null,
   "metadata": {},
   "outputs": [],
   "source": [
    "fig_dir = root_module.parent.joinpath(\"figures/dmc_action_cost.pdf\")\n",
    "fig.savefig(fig_dir, bbox_inches=\"tight\", transparent=False)"
   ]
  },
  {
   "cell_type": "markdown",
   "metadata": {},
   "source": [
    "# License\n",
    "\n",
    ">Copyright (c) 2024 Robert Bosch GmbH\n",
    ">\n",
    ">This program is free software: you can redistribute it and/or modify <br>\n",
    ">it under the terms of the GNU Affero General Public License as published<br>\n",
    ">by the Free Software Foundation, either version 3 of the License, or<br>\n",
    ">(at your option) any later version.<br>\n",
    ">\n",
    ">This program is distributed in the hope that it will be useful,<br>\n",
    ">but WITHOUT ANY WARRANTY; without even the implied warranty of<br>\n",
    ">MERCHANTABILITY or FITNESS FOR A PARTICULAR PURPOSE.  See the<br>\n",
    ">GNU Affero General Public License for more details.<br>\n",
    ">\n",
    ">You should have received a copy of the GNU Affero General Public License<br>\n",
    ">along with this program.  If not, see <https://www.gnu.org/licenses/>."
   ]
  }
 ],
 "metadata": {
  "kernelspec": {
   "display_name": "Python 3",
   "language": "python",
   "name": "python3"
  },
  "language_info": {
   "codemirror_mode": {
    "name": "ipython",
    "version": 3
   },
   "file_extension": ".py",
   "mimetype": "text/x-python",
   "name": "python",
   "nbconvert_exporter": "python",
   "pygments_lexer": "ipython3",
   "version": "3.10.9"
  }
 },
 "nbformat": 4,
 "nbformat_minor": 4
}
