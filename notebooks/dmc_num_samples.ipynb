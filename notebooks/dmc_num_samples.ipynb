{
 "cells": [
  {
   "cell_type": "markdown",
   "metadata": {},
   "source": [
    "### Read data from file"
   ]
  },
  {
   "cell_type": "code",
   "execution_count": null,
   "metadata": {},
   "outputs": [],
   "source": [
    "%load_ext autoreload\n",
    "%autoreload 2\n",
    "import pickle\n",
    "from pathlib import Path\n",
    "\n",
    "root_module = Path.cwd()\n",
    "ext = \".pkl\"\n",
    "file_name = \"dmc_num_samples\"\n",
    "load_dir = root_module.parent.joinpath(\"data/\")\n",
    "file_dir = load_dir.joinpath(file_name + ext)\n",
    "raw_data = pickle.load(open(file_dir, \"rb\"))"
   ]
  },
  {
   "cell_type": "markdown",
   "metadata": {},
   "source": [
    "### Process raw results"
   ]
  },
  {
   "cell_type": "code",
   "execution_count": null,
   "metadata": {},
   "outputs": [],
   "source": [
    "from dist_mbrl.utils.process_results import process_raw_results\n",
    "\n",
    "# Post-process raw return data to get mean and standard error\n",
    "metric_data = process_raw_results(raw_data)\n",
    "\n",
    "# Retrieve relevant variables from data\n",
    "env_names = metric_data[\"env_names\"]\n",
    "steps = metric_data[\"steps\"]\n",
    "mean_returns = metric_data[\"mean_returns\"]\n",
    "ci_returns = metric_data[\"ci_returns\"]"
   ]
  },
  {
   "cell_type": "markdown",
   "metadata": {},
   "source": [
    "### Plotting"
   ]
  },
  {
   "cell_type": "code",
   "execution_count": null,
   "metadata": {},
   "outputs": [],
   "source": [
    "%matplotlib widget\n",
    "import matplotlib.pyplot as plt\n",
    "import numpy as np\n",
    "\n",
    "from dist_mbrl.utils.plot import (\n",
    "    JMLR_PARAMS,\n",
    "    handle_1D_axes_and_legend,\n",
    "    plot_with_symmetric_intervals,\n",
    ")\n",
    "\n",
    "plt.rcParams.update(JMLR_PARAMS)\n",
    "\n",
    "# Define grid of plots\n",
    "ncols = 4\n",
    "nrows = int(np.ceil(len(env_names) / ncols))\n",
    "fig, axes = plt.subplots(\n",
    "    nrows=nrows,\n",
    "    ncols=ncols,\n",
    "    figsize=(6.8, 1.0),\n",
    "    gridspec_kw={\"wspace\": 0.4, \"hspace\": 0.4},\n",
    ")\n",
    "\n",
    "# Reference axes by environment name\n",
    "ax_dict = {}\n",
    "for idx, ax in zip(env_names, axes.flatten()):\n",
    "    ax_dict[idx] = ax\n",
    "\n",
    "# Assign colors and linestyle to each of the hparam combination we compare\n",
    "cmap = plt.get_cmap(\"tab10\")\n",
    "colors = {\"mean\": cmap(0), \"ofu\": cmap(1)}\n",
    "line_types = {\"1\": \":\", \"5\": \"--\", \"10\": \"-\"}\n",
    "\n",
    "\n",
    "# Custom processing of labels\n",
    "def custom_process_label(params):\n",
    "    agent_type = params[2]\n",
    "    num_samples = int(params[0]) * int(params[1])\n",
    "    return f\"{agent_type},\" + rf\" \\#$(s',a')$={{{num_samples}}}\"\n",
    "\n",
    "\n",
    "# Plot for all environments and all methods\n",
    "ep_length = 1000\n",
    "for env_name in env_names:\n",
    "    for idx in mean_returns[env_name].keys():\n",
    "        plot_with_symmetric_intervals(\n",
    "            ax=ax_dict[env_name],\n",
    "            x=steps[env_name][idx] // ep_length,\n",
    "            y=mean_returns[env_name][idx],\n",
    "            yerr=ci_returns[env_name][idx],\n",
    "            label=custom_process_label(idx),\n",
    "            ls=line_types[idx[1]],\n",
    "            title=env_name,\n",
    "            color=colors[idx[2]],\n",
    "        )\n",
    "\n",
    "order = [0, 1, 4, 5, 2, 3]\n",
    "handle_1D_axes_and_legend(\n",
    "    axes=axes, order=order, legend_ncol=3, columnspacing=0.8, legend_offset=(2.4, -1.3)\n",
    ")"
   ]
  },
  {
   "cell_type": "markdown",
   "metadata": {},
   "source": [
    "### Save figures"
   ]
  },
  {
   "cell_type": "code",
   "execution_count": null,
   "metadata": {},
   "outputs": [],
   "source": [
    "fig_dir = root_module.parent.joinpath(\"figures/dmc_num_samples.pdf\")\n",
    "fig.savefig(fig_dir, bbox_inches=\"tight\", transparent=False)"
   ]
  },
  {
   "cell_type": "markdown",
   "metadata": {},
   "source": [
    "# License\n",
    "\n",
    ">Copyright (c) 2024 Robert Bosch GmbH\n",
    ">\n",
    ">This program is free software: you can redistribute it and/or modify <br>\n",
    ">it under the terms of the GNU Affero General Public License as published<br>\n",
    ">by the Free Software Foundation, either version 3 of the License, or<br>\n",
    ">(at your option) any later version.<br>\n",
    ">\n",
    ">This program is distributed in the hope that it will be useful,<br>\n",
    ">but WITHOUT ANY WARRANTY; without even the implied warranty of<br>\n",
    ">MERCHANTABILITY or FITNESS FOR A PARTICULAR PURPOSE.  See the<br>\n",
    ">GNU Affero General Public License for more details.<br>\n",
    ">\n",
    ">You should have received a copy of the GNU Affero General Public License<br>\n",
    ">along with this program.  If not, see <https://www.gnu.org/licenses/>."
   ]
  }
 ],
 "metadata": {
  "interpreter": {
   "hash": "d44ccd9663ca780629f4890d49070f732c0f5e9dadc4d8a50f711cbdaf1c170b"
  },
  "kernelspec": {
   "display_name": "Python 3.10.9 ('dist_mbrl')",
   "language": "python",
   "name": "python3"
  },
  "language_info": {
   "codemirror_mode": {
    "name": "ipython",
    "version": 3
   },
   "file_extension": ".py",
   "mimetype": "text/x-python",
   "name": "python",
   "nbconvert_exporter": "python",
   "pygments_lexer": "ipython3",
   "version": "3.10.9"
  },
  "orig_nbformat": 4
 },
 "nbformat": 4,
 "nbformat_minor": 2
}
