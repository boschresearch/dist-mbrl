{
 "cells": [
  {
   "cell_type": "markdown",
   "metadata": {},
   "source": [
    "### Read data from file"
   ]
  },
  {
   "cell_type": "code",
   "execution_count": null,
   "metadata": {},
   "outputs": [],
   "source": [
    "import pickle\n",
    "from pathlib import Path\n",
    "\n",
    "root_module = Path.cwd()\n",
    "ext = \".pkl\"\n",
    "file_name = \"dmc_quantile_optimism\"\n",
    "load_dir = root_module.parent.joinpath(\"data/\")\n",
    "file_dir = load_dir.joinpath(file_name + ext)\n",
    "raw_data = pickle.load(open(file_dir, \"rb\"))"
   ]
  },
  {
   "cell_type": "markdown",
   "metadata": {},
   "source": [
    "### Process raw results"
   ]
  },
  {
   "cell_type": "code",
   "execution_count": null,
   "metadata": {},
   "outputs": [],
   "source": [
    "from dist_mbrl.utils.process_results import get_mean_median_returns, process_raw_results\n",
    "\n",
    "# Post-process raw return data to get mean and standard error\n",
    "metric_data = process_raw_results(raw_data)\n",
    "\n",
    "# Aggregate metric_data across environments for global statistics\n",
    "aggregated_data = get_mean_median_returns(metric_data)\n",
    "\n",
    "# Retrieve relevant variables from data\n",
    "env_names = metric_data[\"env_names\"]\n",
    "steps = metric_data[\"steps\"]\n",
    "mean_returns = metric_data[\"mean_returns\"]\n",
    "ci_returns = metric_data[\"ci_returns\"]"
   ]
  },
  {
   "cell_type": "markdown",
   "metadata": {},
   "source": [
    "### Plotting"
   ]
  },
  {
   "cell_type": "code",
   "execution_count": null,
   "metadata": {},
   "outputs": [],
   "source": [
    "%matplotlib widget\n",
    "import matplotlib.pyplot as plt\n",
    "\n",
    "from dist_mbrl.utils.plot import (\n",
    "    JMLR_PARAMS,\n",
    "    handle_1D_axes_and_legend,\n",
    "    plot_with_symmetric_intervals,\n",
    ")\n",
    "\n",
    "plt.rcParams.update(JMLR_PARAMS)\n",
    "\n",
    "envs_to_plot = [\n",
    "    \"cheetah-run\",\n",
    "    \"walker-run\",\n",
    "    \"reacher-hard\",\n",
    "    \"finger-spin\",\n",
    "]\n",
    "\n",
    "# Define grid of plots\n",
    "ncols = 4\n",
    "nrows = 1\n",
    "fig, axes = plt.subplots(\n",
    "    nrows=nrows,\n",
    "    ncols=ncols,\n",
    "    figsize=(6.8, 1.2),\n",
    "    gridspec_kw={\"wspace\": 0.45, \"hspace\": 0.50},\n",
    ")\n",
    "\n",
    "# Reference axes by environment name\n",
    "ax_dict = {}\n",
    "for idx, ax in zip(envs_to_plot, axes.flatten()):\n",
    "    ax_dict[idx] = ax\n",
    "\n",
    "colors = {}\n",
    "cmap = plt.get_cmap(\"tab10\")\n",
    "for i, type in enumerate(mean_returns[env_names[0]].keys()):\n",
    "    colors[type] = cmap(i)\n",
    "\n",
    "\n",
    "# Custom processing of labels\n",
    "def custom_process_label(params):\n",
    "    quantile = params[0]\n",
    "    agent_type = params[1]\n",
    "    if quantile == \"nan\":\n",
    "        return rf\"\\texttt{{{agent_type}}}\"\n",
    "    else:\n",
    "        quantile = int(quantile) / 100.0\n",
    "        return rf\"\\texttt{{{agent_type}-{quantile}}}\"\n",
    "\n",
    "\n",
    "ep_length = 1000\n",
    "for env_name in envs_to_plot:\n",
    "    for idx in mean_returns[env_name].keys():\n",
    "        plot_with_symmetric_intervals(\n",
    "            ax=ax_dict[env_name],\n",
    "            x=steps[env_name][idx] // ep_length,\n",
    "            y=mean_returns[env_name][idx],\n",
    "            yerr=ci_returns[env_name][idx],\n",
    "            label=custom_process_label(idx[1:]),\n",
    "            title=env_name,\n",
    "            color=colors[idx],\n",
    "        )\n",
    "\n",
    "handle_1D_axes_and_legend(axes=axes, legend_ncol=4, legend_offset=(2.6, -0.8))"
   ]
  },
  {
   "cell_type": "markdown",
   "metadata": {},
   "source": [
    "### Save figures\n"
   ]
  },
  {
   "cell_type": "code",
   "execution_count": null,
   "metadata": {},
   "outputs": [],
   "source": [
    "fig_dir = root_module.parent.joinpath(\"figures/dmc_quantile_optimism.pdf\")\n",
    "fig.savefig(fig_dir, bbox_inches=\"tight\", transparent=False)"
   ]
  },
  {
   "cell_type": "markdown",
   "metadata": {},
   "source": [
    "# License\n",
    "\n",
    ">Copyright (c) 2024 Robert Bosch GmbH\n",
    ">\n",
    ">This program is free software: you can redistribute it and/or modify <br>\n",
    ">it under the terms of the GNU Affero General Public License as published<br>\n",
    ">by the Free Software Foundation, either version 3 of the License, or<br>\n",
    ">(at your option) any later version.<br>\n",
    ">\n",
    ">This program is distributed in the hope that it will be useful,<br>\n",
    ">but WITHOUT ANY WARRANTY; without even the implied warranty of<br>\n",
    ">MERCHANTABILITY or FITNESS FOR A PARTICULAR PURPOSE.  See the<br>\n",
    ">GNU Affero General Public License for more details.<br>\n",
    ">\n",
    ">You should have received a copy of the GNU Affero General Public License<br>\n",
    ">along with this program.  If not, see <https://www.gnu.org/licenses/>."
   ]
  }
 ],
 "metadata": {
  "interpreter": {
   "hash": "d44ccd9663ca780629f4890d49070f732c0f5e9dadc4d8a50f711cbdaf1c170b"
  },
  "kernelspec": {
   "display_name": "Python 3.10.9 ('dist_mbrl')",
   "language": "python",
   "name": "python3"
  },
  "language_info": {
   "codemirror_mode": {
    "name": "ipython",
    "version": 3
   },
   "file_extension": ".py",
   "mimetype": "text/x-python",
   "name": "python",
   "nbconvert_exporter": "python",
   "pygments_lexer": "ipython3",
   "version": "3.10.9"
  },
  "orig_nbformat": 4
 },
 "nbformat": 4,
 "nbformat_minor": 2
}
