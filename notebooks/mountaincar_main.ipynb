{
 "cells": [
  {
   "cell_type": "markdown",
   "metadata": {},
   "source": [
    "### Read data from file"
   ]
  },
  {
   "cell_type": "code",
   "execution_count": null,
   "metadata": {},
   "outputs": [],
   "source": [
    "import pickle\n",
    "from pathlib import Path\n",
    "\n",
    "root_module = Path.cwd()\n",
    "ext = \".pkl\"\n",
    "file_name = \"mountaincar\"\n",
    "load_dir = root_module.parent.joinpath(\"data/\")\n",
    "file_dir = load_dir.joinpath(file_name + ext)\n",
    "data = pickle.load(open(file_dir, \"rb\"))"
   ]
  },
  {
   "cell_type": "markdown",
   "metadata": {},
   "source": [
    "### Process raw results"
   ]
  },
  {
   "cell_type": "code",
   "execution_count": null,
   "metadata": {},
   "outputs": [],
   "source": [
    "from collections import defaultdict\n",
    "\n",
    "import numpy as np\n",
    "from scipy.stats import sem\n",
    "\n",
    "from dist_mbrl.utils.process_results import rolling_average\n",
    "\n",
    "reward_scales = data[\"reward_scales\"]\n",
    "raw_returns = data[\"raw_returns\"]\n",
    "steps = data[\"steps\"]\n",
    "\n",
    "WINDOW_SIZE = 10\n",
    "\n",
    "mean_returns = defaultdict(dict)\n",
    "ci_returns = defaultdict(dict)\n",
    "for reward_scale in reward_scales:\n",
    "    for idx in raw_returns[reward_scale].keys():\n",
    "        smoothened_returns = rolling_average(\n",
    "            WINDOW_SIZE, raw_returns[reward_scale][idx]\n",
    "        )\n",
    "        mean_returns[reward_scale][idx] = np.mean(smoothened_returns, axis=-1)\n",
    "        sem_return = sem(smoothened_returns, axis=-1)\n",
    "        ci_returns[reward_scale][idx] = 1.00 * sem_return"
   ]
  },
  {
   "cell_type": "markdown",
   "metadata": {},
   "source": [
    "### Plotting"
   ]
  },
  {
   "cell_type": "code",
   "execution_count": null,
   "metadata": {},
   "outputs": [],
   "source": [
    "%matplotlib widget\n",
    "import matplotlib.pyplot as plt\n",
    "\n",
    "from dist_mbrl.utils.plot import JMLR_PARAMS, LIGHT_GREY\n",
    "\n",
    "plt.rcParams.update(JMLR_PARAMS)\n",
    "\n",
    "fig, axes = plt.subplots(\n",
    "    nrows=1, ncols=3, figsize=(6.8, 1.0), gridspec_kw={\"wspace\": 0.4, \"hspace\": 0.5}\n",
    ")\n",
    "\n",
    "colors = {}\n",
    "cmap = plt.get_cmap(\"tab10\")\n",
    "for i, type in enumerate(mean_returns[reward_scales[0]].keys()):\n",
    "    colors[type] = cmap(i)\n",
    "\n",
    "ep_length = 1000\n",
    "\n",
    "\n",
    "def process_label(params):\n",
    "    label = \"\"\n",
    "    for param in params:\n",
    "        if param != \"nan\":\n",
    "            label += rf\"\\texttt{{ {param}}}\"\n",
    "    return label\n",
    "\n",
    "\n",
    "for i, reward_scale in enumerate(reward_scales[::-1]):\n",
    "    ax = axes[i]\n",
    "    ax.set_title(f\"Reward scale {reward_scale}x\")\n",
    "    for idx in mean_returns[reward_scale].keys():\n",
    "        label = process_label(idx)\n",
    "        ax.plot(\n",
    "            steps[reward_scale][idx] // ep_length,\n",
    "            mean_returns[reward_scale][idx],\n",
    "            linestyle=\"-\",\n",
    "            linewidth=1.5,\n",
    "            label=label,\n",
    "            c=colors[idx],\n",
    "        )\n",
    "        ax.fill_between(\n",
    "            steps[reward_scale][idx] // ep_length,\n",
    "            mean_returns[reward_scale][idx] - ci_returns[reward_scale][idx],\n",
    "            mean_returns[reward_scale][idx] + ci_returns[reward_scale][idx],\n",
    "            alpha=0.2,\n",
    "            color=colors[idx],\n",
    "        )\n",
    "        ax.grid(color=LIGHT_GREY)\n",
    "\n",
    "axes[0].set_ylabel(\"Return\")\n",
    "\n",
    "for ax in axes:\n",
    "    ax.set_xlabel(r\"Env steps $\\times 10^3$\", labelpad=0)\n",
    "\n",
    "axes[0].legend(loc=\"lower center\", ncol=4, bbox_to_anchor=(1.9, -1.2), frameon=False)"
   ]
  },
  {
   "cell_type": "markdown",
   "metadata": {},
   "source": [
    "### Save figure"
   ]
  },
  {
   "cell_type": "code",
   "execution_count": null,
   "metadata": {},
   "outputs": [],
   "source": [
    "fig_dir = root_module.parent.joinpath(\"figures/mountaincar.pdf\")\n",
    "fig.savefig(fig_dir, bbox_inches=\"tight\", transparent=False)"
   ]
  },
  {
   "cell_type": "markdown",
   "metadata": {},
   "source": [
    "# License\n",
    "\n",
    ">Copyright (c) 2024 Robert Bosch GmbH\n",
    ">\n",
    ">This program is free software: you can redistribute it and/or modify <br>\n",
    ">it under the terms of the GNU Affero General Public License as published<br>\n",
    ">by the Free Software Foundation, either version 3 of the License, or<br>\n",
    ">(at your option) any later version.<br>\n",
    ">\n",
    ">This program is distributed in the hope that it will be useful,<br>\n",
    ">but WITHOUT ANY WARRANTY; without even the implied warranty of<br>\n",
    ">MERCHANTABILITY or FITNESS FOR A PARTICULAR PURPOSE.  See the<br>\n",
    ">GNU Affero General Public License for more details.<br>\n",
    ">\n",
    ">You should have received a copy of the GNU Affero General Public License<br>\n",
    ">along with this program.  If not, see <https://www.gnu.org/licenses/>."
   ]
  }
 ],
 "metadata": {
  "interpreter": {
   "hash": "d44ccd9663ca780629f4890d49070f732c0f5e9dadc4d8a50f711cbdaf1c170b"
  },
  "kernelspec": {
   "display_name": "Python 3.10.9 ('dist_mbrl')",
   "language": "python",
   "name": "python3"
  },
  "language_info": {
   "codemirror_mode": {
    "name": "ipython",
    "version": 3
   },
   "file_extension": ".py",
   "mimetype": "text/x-python",
   "name": "python",
   "nbconvert_exporter": "python",
   "pygments_lexer": "ipython3",
   "version": "3.10.9"
  },
  "orig_nbformat": 4
 },
 "nbformat": 4,
 "nbformat_minor": 2
}
