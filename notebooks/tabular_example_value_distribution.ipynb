{
 "cells": [
  {
   "cell_type": "code",
   "execution_count": null,
   "metadata": {},
   "outputs": [],
   "source": [
    "import random\n",
    "\n",
    "import numpy as np\n",
    "import scipy.stats as stats\n",
    "\n",
    "from dist_mbrl.envs.toy_mdp import ToyMDP1\n",
    "\n",
    "# Set Seeds\n",
    "seed = 0\n",
    "np.random.seed(seed)\n",
    "random.seed(seed)"
   ]
  },
  {
   "cell_type": "markdown",
   "metadata": {},
   "source": [
    "### Sample MDPs from Posterior and compute value distribution"
   ]
  },
  {
   "cell_type": "code",
   "execution_count": null,
   "metadata": {},
   "outputs": [],
   "source": [
    "# Define posterior over the three parameters defining the toy MRP\n",
    "def build_posterior(alphas, beta):\n",
    "    p = []\n",
    "    r = []\n",
    "    for alpha in alphas:\n",
    "        mdp = ToyMDP1(alpha, beta)\n",
    "        p.append(mdp.p)\n",
    "        r.append(mdp.r)\n",
    "    return np.array(p), np.array(r)\n",
    "\n",
    "\n",
    "def compute_values(p_ensemble, r_ensemble, discount=0.99):\n",
    "    num_models = p_ensemble.shape[0]\n",
    "    vfs = []\n",
    "    for i in range(num_models):\n",
    "        p = p_ensemble[i]\n",
    "        r = r_ensemble[i]\n",
    "        vfs.append(np.linalg.inv(np.eye(p.shape[0]) - discount * p).dot(r))\n",
    "    return np.stack([value for value in vfs], axis=0)\n",
    "\n",
    "\n",
    "# Generate many samples to approximate the posterior over values\n",
    "num_samples = 5000\n",
    "beta = 0.9\n",
    "alphas = np.clip(\n",
    "    stats.norm.rvs(loc=0.4, scale=0.1, size=num_samples), a_min=0.0, a_max=1.0\n",
    ")\n",
    "p, r = build_posterior(alphas, beta)\n",
    "vf = compute_values(p, r)"
   ]
  },
  {
   "cell_type": "markdown",
   "metadata": {},
   "source": [
    "### Plot"
   ]
  },
  {
   "cell_type": "code",
   "execution_count": null,
   "metadata": {},
   "outputs": [],
   "source": [
    "%matplotlib widget\n",
    "import matplotlib.pyplot as plt\n",
    "\n",
    "from dist_mbrl.utils.plot import JMLR_PARAMS\n",
    "\n",
    "plt.rcParams.update(JMLR_PARAMS)\n",
    "\n",
    "# Plotting\n",
    "fig, axes = plt.subplots(\n",
    "    nrows=1, ncols=2, figsize=(3.5, 2.0), gridspec_kw={\"wspace\": 0.35, \"hspace\": 0.2}\n",
    ")\n",
    "\n",
    "x = np.linspace(0, 1, 5000)\n",
    "kernel_p = stats.gaussian_kde(alphas)\n",
    "axes[0].plot(x, kernel_p.pdf(x), color=\"tab:red\", lw=2.0)\n",
    "axes[0].set_xlabel(r\"$X$\")\n",
    "axes[0].text(0.6, 2, r\"$\\Phi(P)$\", fontsize=14)\n",
    "axes[0].set_ylabel(\"Probability density\")\n",
    "axes[0].set_ylim(bottom=0.0)\n",
    "axes[0].set_xlim(-0.1, 1.1)\n",
    "\n",
    "x = np.linspace(-1, 1, 5000)\n",
    "kernel_v = stats.gaussian_kde(vf[:, 0])\n",
    "axes[1].plot(x, kernel_v.pdf(x), color=\"tab:blue\", lw=2.0)\n",
    "axes[1].set_xlabel(r\"$V(s_0)$\")\n",
    "axes[1].text(-0.85, 0.85, r\"$\\mu(s_0)$\", fontsize=14)\n",
    "axes[1].set_ylabel(\"\")\n",
    "axes[1].set_ylim(bottom=0.0)\n",
    "axes[1].set_xlim(-1.1, 1.1)\n",
    "plt.show()"
   ]
  },
  {
   "cell_type": "markdown",
   "metadata": {},
   "source": [
    "### Save figures"
   ]
  },
  {
   "cell_type": "code",
   "execution_count": null,
   "metadata": {},
   "outputs": [],
   "source": [
    "from pathlib import Path\n",
    "\n",
    "root_module = Path.cwd()\n",
    "fig_dir = root_module.parent.joinpath(\"figures/tabular_example_value_distribution.pdf\")\n",
    "fig.savefig(fig_dir, bbox_inches=\"tight\", transparent=False)"
   ]
  },
  {
   "cell_type": "markdown",
   "metadata": {},
   "source": [
    "# License\n",
    "\n",
    ">Copyright (c) 2024 Robert Bosch GmbH\n",
    ">\n",
    ">This program is free software: you can redistribute it and/or modify <br>\n",
    ">it under the terms of the GNU Affero General Public License as published<br>\n",
    ">by the Free Software Foundation, either version 3 of the License, or<br>\n",
    ">(at your option) any later version.<br>\n",
    ">\n",
    ">This program is distributed in the hope that it will be useful,<br>\n",
    ">but WITHOUT ANY WARRANTY; without even the implied warranty of<br>\n",
    ">MERCHANTABILITY or FITNESS FOR A PARTICULAR PURPOSE.  See the<br>\n",
    ">GNU Affero General Public License for more details.<br>\n",
    ">\n",
    ">You should have received a copy of the GNU Affero General Public License<br>\n",
    ">along with this program.  If not, see <https://www.gnu.org/licenses/>."
   ]
  }
 ],
 "metadata": {
  "interpreter": {
   "hash": "d44ccd9663ca780629f4890d49070f732c0f5e9dadc4d8a50f711cbdaf1c170b"
  },
  "kernelspec": {
   "display_name": "Python 3.8.15 ('dist_mbrl')",
   "language": "python",
   "name": "python3"
  },
  "language_info": {
   "codemirror_mode": {
    "name": "ipython",
    "version": 3
   },
   "file_extension": ".py",
   "mimetype": "text/x-python",
   "name": "python",
   "nbconvert_exporter": "python",
   "pygments_lexer": "ipython3",
   "version": "3.10.9"
  },
  "orig_nbformat": 4
 },
 "nbformat": 4,
 "nbformat_minor": 2
}
